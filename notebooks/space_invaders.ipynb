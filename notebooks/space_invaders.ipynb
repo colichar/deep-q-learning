{
 "cells": [
  {
   "cell_type": "markdown",
   "id": "3bac46d0-4abc-49a5-8aaa-7c58a2014647",
   "metadata": {
    "jp-MarkdownHeadingCollapsed": true
   },
   "source": [
    "### TODO:"
   ]
  },
  {
   "cell_type": "markdown",
   "id": "ce335a06-e28d-48d7-ab3f-c8e87252ca97",
   "metadata": {},
   "source": [
    "- Replay Memory: written first version\n",
    "    - add batches of transitions\n",
    "    - changed _batch_random to return a tuple since tf.data.Dataset is for largedatasets\n",
    "    - bug: when sampling a minibatch with a uncomplete replay memory empty entries might be selected\n",
    "- Preprocessing:\n",
    "    - transform the frames to tensorflow tensors asap and try to use tf.function where possible\n",
    "    - try to do the preprocessing in batches to use parallelism\n",
    "    - try to use lazy loading and prefetching as well\n",
    "- DQN Model\n",
    "    - Written a CNN model with custom loss function\n",
    "    - check if the compile is still neeeded\n",
    "    - check if I should write the class as a more general module and not subclass of Sequential\n",
    "- DQN Agent\n",
    "    - started writing\n",
    "    - update_step vectorized (and could also be decorated with tf.function)\n",
    "    - need to see if I want to make larger batch or more batches for one update_step\n",
    "    - Training loop\n",
    "        - needs to be checked what should be vectorized\n",
    "        - need to substitute python and numpy code with tensorflow code\n",
    "        - optimize for graph computations\n",
    "- Use a profilier to optimize code"
   ]
  },
  {
   "cell_type": "markdown",
   "id": "a84b1de6-00cf-4204-8cbd-ccfd6c7a9c74",
   "metadata": {},
   "source": [
    "### Stories"
   ]
  },
  {
   "cell_type": "markdown",
   "id": "93e4dd10-45f3-406f-986e-d6337b3e1137",
   "metadata": {},
   "source": [
    "- bugfix: cast predicted action from tensor to scalar\n",
    "- bugfix: fix selecting empty transitions, replace TensorArrays with Tensors\n",
    "- feature: plot for training history\n",
    "- feature: saves and loads memory from disk\n",
    "- feature: saves and loads model to disk / maybe only (model weights, history)\n",
    "- feature: DiskReplayMemory class for replay memory that don't fit into RAM"
   ]
  },
  {
   "cell_type": "markdown",
   "id": "6a37b3b6-e0a6-4e17-bea1-6d1401269d44",
   "metadata": {},
   "source": [
    "### Code"
   ]
  },
  {
   "cell_type": "code",
   "execution_count": 1,
   "id": "c488bc11-a430-41e8-a3dc-4cb9f5e6e5dc",
   "metadata": {},
   "outputs": [
    {
     "data": {
      "text/plain": [
       "'/home/harisc/repos/deep-q-learning'"
      ]
     },
     "execution_count": 1,
     "metadata": {},
     "output_type": "execute_result"
    }
   ],
   "source": [
    "import os\n",
    "import time\n",
    "\n",
    "os.chdir('/home/harisc/repos/deep-q-learning')\n",
    "os.getcwd()"
   ]
  },
  {
   "cell_type": "code",
   "execution_count": 2,
   "id": "aa32ad4c-4ae0-4979-bff5-f25c6f45f873",
   "metadata": {},
   "outputs": [
    {
     "name": "stderr",
     "output_type": "stream",
     "text": [
      "2023-12-24 18:46:51.575188: I external/local_tsl/tsl/cuda/cudart_stub.cc:31] Could not find cuda drivers on your machine, GPU will not be used.\n",
      "2023-12-24 18:46:51.614883: E external/local_xla/xla/stream_executor/cuda/cuda_dnn.cc:9261] Unable to register cuDNN factory: Attempting to register factory for plugin cuDNN when one has already been registered\n",
      "2023-12-24 18:46:51.614911: E external/local_xla/xla/stream_executor/cuda/cuda_fft.cc:607] Unable to register cuFFT factory: Attempting to register factory for plugin cuFFT when one has already been registered\n",
      "2023-12-24 18:46:51.616147: E external/local_xla/xla/stream_executor/cuda/cuda_blas.cc:1515] Unable to register cuBLAS factory: Attempting to register factory for plugin cuBLAS when one has already been registered\n",
      "2023-12-24 18:46:51.622493: I external/local_tsl/tsl/cuda/cudart_stub.cc:31] Could not find cuda drivers on your machine, GPU will not be used.\n",
      "2023-12-24 18:46:51.622922: I tensorflow/core/platform/cpu_feature_guard.cc:182] This TensorFlow binary is optimized to use available CPU instructions in performance-critical operations.\n",
      "To enable the following instructions: AVX2 FMA, in other operations, rebuild TensorFlow with the appropriate compiler flags.\n",
      "2023-12-24 18:46:52.491993: W tensorflow/compiler/tf2tensorrt/utils/py_utils.cc:38] TF-TRT Warning: Could not find TensorRT\n"
     ]
    }
   ],
   "source": [
    "from src.agents.dqn_agent import SpaceInvaderAgent"
   ]
  },
  {
   "cell_type": "code",
   "execution_count": 4,
   "id": "6f2b9290-a770-4944-8646-bce7e9245382",
   "metadata": {},
   "outputs": [],
   "source": [
    "from tensorflow import constant\n",
    "\n",
    "learning_rate = 0.001\n",
    "memory_size = constant(500) # 10**4 # 3 * 10**5\n",
    "batch_size = constant(32) # 32\n",
    "max_train_frames = 1000 # 5 * 10**4 # 4.5 * 10**5\n",
    "update_main_freq = 4\n",
    "update_target_freq = 250 # 0.25 * 10**4 # 10**4\n",
    "average_loss_freq = 200 # 400\n",
    "memory_warmup = 200 # 0.5 * 10**4 # 5*10**4\n",
    "discount = 0.99\n",
    "\n",
    "eval_episodes = 10"
   ]
  },
  {
   "cell_type": "code",
   "execution_count": 5,
   "id": "8db547f4-5159-4e21-9dbe-023198111e8c",
   "metadata": {},
   "outputs": [
    {
     "name": "stderr",
     "output_type": "stream",
     "text": [
      "A.L.E: Arcade Learning Environment (version 0.8.1+53f58b7)\n",
      "[Powered by Stella]\n"
     ]
    }
   ],
   "source": [
    "my_agent = SpaceInvaderAgent(\n",
    "    learning_rate = learning_rate,\n",
    "    memory_size = memory_size,\n",
    "    batch_size = batch_size,\n",
    "    max_train_frames = max_train_frames,\n",
    "    update_main_freq = update_main_freq,\n",
    "    update_target_freq = update_target_freq,\n",
    "    average_loss_freq = average_loss_freq,\n",
    "    memory_warmup = memory_warmup,\n",
    "    discount = discount,\n",
    "    eval_episodes = eval_episodes\n",
    ")"
   ]
  },
  {
   "cell_type": "code",
   "execution_count": 6,
   "id": "d43589fc-fa08-4f32-a12c-ddbce0a5c41f",
   "metadata": {},
   "outputs": [
    {
     "name": "stderr",
     "output_type": "stream",
     "text": [
      "/home/harisc/repos/deep-q-learning/dqn/lib/python3.11/site-packages/gym/utils/passive_env_checker.py:233: DeprecationWarning: `np.bool8` is a deprecated alias for `np.bool_`.  (Deprecated NumPy 1.24)\n",
      "  if not isinstance(terminated, (bool, np.bool8)):\n"
     ]
    },
    {
     "name": "stdout",
     "output_type": "stream",
     "text": [
      "Updating target model...\n",
      "Finished 400 frames. Loss: 5.8868117\n",
      "Updating target model...\n",
      "Episode finished. Reward: 230.0\n",
      "Finished 600 frames. Loss: 0.8883535\n",
      "Updating target model...\n",
      "Finished 800 frames. Loss: 0.653037\n",
      "Episode finished. Reward: 110.0\n",
      "Episode finished. Reward: 45.0\n"
     ]
    }
   ],
   "source": [
    "my_agent.train()"
   ]
  },
  {
   "cell_type": "code",
   "execution_count": 7,
   "id": "de8a18be-8554-4629-96d7-8013231e61de",
   "metadata": {},
   "outputs": [
    {
     "data": {
      "image/png": "[encoded data removed]",
      "text/plain": [
       "<Figure size 1000x300 with 2 Axes>"
      ]
     },
     "metadata": {},
     "output_type": "display_data"
    }
   ],
   "source": [
    "my_agent.plot_history()"
   ]
  },
  {
   "cell_type": "code",
   "execution_count": null,
   "id": "afdee520-6caa-4695-a8f0-ad0112b69fec",
   "metadata": {},
   "outputs": [],
   "source": [
    "#%prun my_agent.train()"
   ]
  },
  {
   "cell_type": "code",
   "execution_count": null,
   "id": "412c7810-13ce-4e0c-9e9a-9ccf17a210a1",
   "metadata": {},
   "outputs": [],
   "source": [
    "import tensorflow as tf"
   ]
  }
 ],
 "metadata": {
  "kernelspec": {
   "display_name": "dqn",
   "language": "python",
   "name": "dqn"
  },
  "language_info": {
   "codemirror_mode": {
    "name": "ipython",
    "version": 3
   },
   "file_extension": ".py",
   "mimetype": "text/x-python",
   "name": "python",
   "nbconvert_exporter": "python",
   "pygments_lexer": "ipython3",
   "version": "3.11.6"
  }
 },
 "nbformat": 4,
 "nbformat_minor": 5
}
