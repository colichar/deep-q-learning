{
 "cells": [
  {
   "cell_type": "markdown",
   "id": "7e25a7b0",
   "metadata": {},
   "source": [
    "# Deep-Q-Learning\n",
    "\n",
    "In this notebook I explore the concepts of Deep-Q-Learning by following the papers published DeepMind [V. Mnih et al (2013)](https://arxiv.org/pdf/1312.5602.pdf) and [V. Mnih et al (2015)](https://www.nature.com/articles/nature14236/).\n",
    "\n",
    "As I'm intrigued by the topic of autonomous driving, the [MIT lecture videos by Lex Fridman](https://deeplearning.mit.edu/) introduced me to the topic of DQL motivated me to take a deep dive and get familiar with its concepts.\n",
    "\n",
    "### !!!This is still a work in progress!!!"
   ]
  },
  {
   "cell_type": "code",
   "execution_count": 146,
   "id": "57bac5b5",
   "metadata": {},
   "outputs": [],
   "source": [
    "import gym\n",
    "import numpy as np\n",
    "import random\n",
    "\n",
    "import tensorflow as tf\n",
    "from tensorflow import keras\n",
    "from keras.layers import Conv2D, Flatten, Dense\n",
    "\n",
    "import typing\n",
    "\n",
    "import matplotlib.pyplot as plt"
   ]
  },
  {
   "cell_type": "markdown",
   "id": "74d504fa",
   "metadata": {},
   "source": [
    "## Preview of the game\n",
    "\n",
    "Use **left** and **right arrows** to move the spaceship sideways and the **space bar** to use the main cannon and shoot the aliens!\n",
    "\n",
    "If you want to move to the left/right and shoot simultaneously then use **s/d**.\n",
    "\n",
    "As you play, the `PlayPlot` function (marked deprecated) will plot the immediate award for the actions you take. For this uncomment the callback call in the `play` function. "
   ]
  },
  {
   "cell_type": "code",
   "execution_count": 3,
   "id": "cf69d995",
   "metadata": {},
   "outputs": [
    {
     "name": "stderr",
     "output_type": "stream",
     "text": [
      "/home/hare/.local/lib/python3.10/site-packages/gym/utils/play.py:322: DeprecationWarning: \u001b[33mWARN: `PlayPlot` is marked as deprecated and will be removed in the near future.\u001b[0m\n",
      "  deprecation(\n",
      "A.L.E: Arcade Learning Environment (version 0.8.0+919230b)\n",
      "[Powered by Stella]\n",
      "\u001b[31mERROR: PlayableGame wrapper works only with rgb_array and rgb_array_list render modes, but your environment render_mode = None.\u001b[0m\n",
      "/home/hare/.local/lib/python3.10/site-packages/gym/utils/passive_env_checker.py:289: UserWarning: \u001b[33mWARN: No render fps was declared in the environment (env.metadata['render_fps'] is None or not defined), rendering may occur at inconsistent fps.\u001b[0m\n",
      "  logger.warn(\n"
     ]
    }
   ],
   "source": [
    "import pygame\n",
    "from gym.utils.play import play, PlayPlot\n",
    "\n",
    "def compute_metrics(obs_t, obs_tp, action, reward, terminated, truncated, info):\n",
    "    return [reward, np.linalg.norm(action)]\n",
    "\n",
    "plotter = PlayPlot(\n",
    "    compute_metrics,\n",
    "    horizon_timesteps=200,\n",
    "    plot_names=[\"Immediate Rew.\", \"Action Magnitude\"]\n",
    ")\n",
    "\n",
    "my_env = gym.make(\"SpaceInvaders-v4\", render_mode=\"rgb_array\")\n",
    "mapping = {(pygame.K_SPACE,): 1, (pygame.K_RIGHT,): 2, (pygame.K_LEFT,): 3, (pygame.K_d,): 4, (pygame.K_s,): 5}\n",
    "play(my_env, keys_to_action=mapping) #, callback=plotter.callback)"
   ]
  },
  {
   "cell_type": "markdown",
   "id": "a5bdb7e9",
   "metadata": {},
   "source": [
    "## Some random action taken"
   ]
  },
  {
   "cell_type": "code",
   "execution_count": null,
   "id": "08668fc1",
   "metadata": {},
   "outputs": [],
   "source": [
    "import gym\n",
    "env = gym.make(\"SpaceInvaders-v4\", render_mode=\"human\")\n",
    "observation, info = env.reset(seed=42)\n",
    "for _ in range(1000):\n",
    "    action = choose_action(env, observation, 1)\n",
    "    observation, reward, terminated, truncated, info = env.step(action)\n",
    "\n",
    "    if terminated or truncated:\n",
    "        observation, info = env.reset()\n",
    "env.close()"
   ]
  },
  {
   "cell_type": "markdown",
   "id": "2f96bcd0",
   "metadata": {},
   "source": [
    "## Starting to define some functions"
   ]
  },
  {
   "cell_type": "markdown",
   "id": "791e4699",
   "metadata": {},
   "source": [
    "For the first attempt we'll use the architecture of the neural network described on page 6 in [Volodymir Mnih et al (2013)](https://arxiv.org/pdf/1312.5602.pdf).\n",
    "\n",
    "### Preprocess function $\\phi$\n",
    "\n",
    "Since it will be computationally more demanding working with the raw $210 \\times 160$ pixel frames, we'll apply a preprocess function $\\phi$ to the frames before forwarding them to the neural network. The preprocess function will do the following\n",
    "- (will not be done here) for a single frame we take the maximum value for each pixel color value and the previous frame (removes flickering in original paper, but we'll use the `ALE/SpaceInvaders-v5` environment which has a frameskip=5 which removes the flickering of the misiles)\n",
    "- the frames will be converted from RGB representation into gray-scale\n",
    "- the frames will be resized to $110 \\times 84$ images\n",
    "- the playing area is cropped out so we have a final $84 \\times 84$ frame (this is done in, but I might skip this step in this notebook [Volodymir Mnih et al (2013)](https://arxiv.org/pdf/1312.5602.pdf))\n",
    "- the last 4 frames from a sequence will be modified as explained and stacked to form a $84 \\times 84 \\times 4$ input for the agent\n",
    "\n",
    "So, to preprocess our input for the neuarl network, we'll need a function $\\phi$ that will take the previous processed sequence $\\phi_t$ and new obtained frame $x_{t+1}$ and combine them to a new processed sequence as follows\n",
    "\n",
    "$$\\phi: \\phi_t, x_{t+1} \\longrightarrow \\phi_{t+1}$$"
   ]
  },
  {
   "cell_type": "code",
   "execution_count": 141,
   "id": "046b133a",
   "metadata": {},
   "outputs": [],
   "source": [
    "class Preprocessor:\n",
    "    \"\"\"\n",
    "    Takes care of preprocessing frames for the models.\n",
    "    \"\"\"\n",
    "    \n",
    "    def __init__(self, height:int=84, width:int=84):\n",
    "        self.height = height\n",
    "        self.width = width\n",
    "        \n",
    "    \n",
    "    \n",
    "    # look up additional annotations to add\n",
    "        # what does the numpy array consist of\n",
    "        # what does the tf.tensor consist of, it's shape and type\n",
    "    def preprocess_frame(self, new_raw_obs: np.ndarray) -> tf.uint8:\n",
    "        \"\"\"\n",
    "        Preprocesses one frame for the model.\n",
    "        Args:\n",
    "            new_raw_obs: new raw frame with shape (210, 160, 3)\n",
    "        Returns:\n",
    "            processed frame with shape (84, 84, 1)\n",
    "        \"\"\"\n",
    "        \n",
    "        processed_fr = tf.image.rgb_to_grayscale(new_raw_obs)\n",
    "        processed_fr = tf.image.crop_to_bounding_box(processed_fr, 34, 0, 160, 160)\n",
    "        processed_fr = tf.image.resize(processed_fr, [self.height, self.width], method='bilinear')\n",
    "        processed_fr = tf.cast(processed_fr, tf.uint8)\n",
    "\n",
    "        return processed_fr\n",
    "    \n",
    "    def initialize_state(self, env) -> tf.uint8:\n",
    "        \"\"\"\n",
    "        Initializes the first state of an episode with the first 4 frames.\n",
    "        Args:\n",
    "            new_raw_obs: new raw frame with shape (210, 160, 3)\n",
    "        Returns:\n",
    "            state containing the first four preprocessed frames with shape (84, 84, 4)\n",
    "        \"\"\"\n",
    "        \n",
    "        actions = [env.action_space.sample() for i in range(4)]\n",
    "        processed_frames = [self.preprocess_frame(obs) for obs in [env.step(action)[0] for action in actions]]\n",
    "        \n",
    "        return tf.concat(processed_frames, axis=-1)\n",
    "        \n",
    "    \n",
    "    def new_state(self, new_raw_obs: np.ndarray, old_state: tf.uint8) -> tf.uint8:\n",
    "        \"\"\"\n",
    "        Creates a news state from an old state and a new raw frame.\n",
    "        Args:\n",
    "            new_raw_obs: new raw frame with shape (210, 160, 3)\n",
    "            old_state: old state consisting of four preprocessed previous frames (84, 84, 4)\n",
    "        Returns:\n",
    "            new state with shape (84, 84, 4) where the new preprocessed frame was appended to the old \n",
    "            state and the oldest preprocessed frame was dropped.\n",
    "        \"\"\"\n",
    "        processed_fr = self.preprocess_frame(new_raw_obs)\n",
    "        \n",
    "        return tf.concat([old_state[::, ::, 1:], processed_fr], axis=-1)"
   ]
  },
  {
   "cell_type": "markdown",
   "id": "c111d2ed",
   "metadata": {},
   "source": [
    "### Testing the preprocess function $\\phi$"
   ]
  },
  {
   "cell_type": "code",
   "execution_count": 143,
   "id": "e0377f26",
   "metadata": {},
   "outputs": [],
   "source": [
    "## get some observations to test the preprocess function\n",
    "## first 45 memory entries are before the game starts\n",
    "\n",
    "memory_raw_frames = []\n",
    "memory_processed = []\n",
    "\n",
    "env = gym.make(\"ALE/SpaceInvaders-v5\", render_mode=\"rgb_array\")\n",
    "curr_raw_obs, info = env.reset(seed=42)\n",
    "preprocessed = initialize_state(env, curr_raw_obs)\n",
    "memory_processed.append(preprocessed)\n",
    "\n",
    "memory_raw_frames.append(curr_raw_obs)\n",
    "for _ in range(500):\n",
    "    action = env.action_space.sample()#choose_action(env, curr_raw_obs, 1)\n",
    "    new_raw_obs, reward, terminated, truncated, info = env.step(action)\n",
    "    \n",
    "    preprocessed = preprocess_input(new_raw_obs, curr_raw_obs, memory_processed[-1])\n",
    "    memory_processed.append(preprocessed)\n",
    "    \n",
    "    curr_raw_obs = new_raw_obs\n",
    "    \n",
    "    memory_raw_frames.append(curr_raw_obs)\n",
    "\n",
    "    if terminated or truncated:\n",
    "        observation, info = env.reset()\n",
    "env.close()"
   ]
  },
  {
   "cell_type": "code",
   "execution_count": 147,
   "id": "b0436ca4",
   "metadata": {},
   "outputs": [],
   "source": [
    "# defining a couple of functions to check the original and processed frames\n",
    "    # check if the flickering is a problem in consecutive images\n",
    "    # check if the misiles are seen in the processed images\n",
    "\n",
    "\n",
    "def plot_raw_frames(frames):\n",
    "\n",
    "    fig = plt.figure(figsize=(10, 10))\n",
    "    columns = 4\n",
    "    rows = 1\n",
    "    for i in range(1, columns*rows +1):\n",
    "        img = frames[i]\n",
    "        fig.add_subplot(rows, columns, i)\n",
    "        plt.imshow(img)\n",
    "    plt.show()\n",
    "    \n",
    "def plot_processed_frames(frames):\n",
    "\n",
    "    fig = plt.figure(figsize=(10, 10))\n",
    "    columns = 4\n",
    "    rows = 1\n",
    "    for i in range(1, columns*rows +1):\n",
    "        img = frames[i]\n",
    "        fig.add_subplot(rows, columns, i)\n",
    "        plt.imshow(img[::, ::, 2])\n",
    "    plt.show()"
   ]
  },
  {
   "cell_type": "code",
   "execution_count": 145,
   "id": "d215a1cc",
   "metadata": {
    "scrolled": true
   },
   "outputs": [
    {
     "data": {
      "image/png": "[encoded data removed]",
      "text/plain": [
       "<Figure size 640x480 with 1 Axes>"
      ]
     },
     "metadata": {},
     "output_type": "display_data"
    },
    {
     "data": {
      "image/png": "[encoded data removed]",
      "text/plain": [
       "<Figure size 640x480 with 1 Axes>"
      ]
     },
     "metadata": {},
     "output_type": "display_data"
    },
    {
     "data": {
      "image/png": "[encoded data removed]",
      "text/plain": [
       "<Figure size 640x480 with 1 Axes>"
      ]
     },
     "metadata": {},
     "output_type": "display_data"
    }
   ],
   "source": [
    "import matplotlib.pyplot as plt\n",
    "\n",
    "processor = Preprocessor()\n",
    "\n",
    "imgplot = plt.imshow(memory_raw_frames[286])\n",
    "plt.show()\n",
    "\n",
    "old_state = [processor.preprocess_frame(memory_raw_frames[i]) for i in range(282,286)]\n",
    "old_state = tf.concat(old_state, axis=-1)\n",
    "\n",
    "\n",
    "processed_frame = processor.preprocess_frame(memory_raw_frames[286])\n",
    "processed = processor.new_state(memory_raw_frames[290], old_state)\n",
    "\n",
    "imgplot = plt.imshow(processed)\n",
    "plt.show()\n",
    "imgplot = plt.imshow(processed_frame)\n",
    "plt.show()"
   ]
  },
  {
   "cell_type": "markdown",
   "id": "0303e684",
   "metadata": {},
   "source": [
    "### Exploration and exploitation with $\\epsilon$-greedy strategy"
   ]
  },
  {
   "cell_type": "markdown",
   "id": "11d64afa",
   "metadata": {},
   "source": [
    "- explore for rand < eps and exploit for rand > eps\n",
    "- for first xx amount of frames $\\epsilon = 1$\n",
    "- for the next million frames $\\epsilon \\rightarrow 0.1$ linearly\n",
    "- after that it is fixed to $\\epsilon = 0.1$"
   ]
  },
  {
   "cell_type": "code",
   "execution_count": 148,
   "id": "2055344f",
   "metadata": {},
   "outputs": [],
   "source": [
    "class ExplorationVsExploitation:\n",
    "    \"\"\"\n",
    "        This class handles the epsilon-greedy strategy which will be used to determine whethere\n",
    "        we will choose an action to explore new possibilites or exploit the accumulated experience.\n",
    "    \"\"\"\n",
    "    def __init__(self,\n",
    "                 dqn_model,\n",
    "                 n_actions: int,\n",
    "                 eps_initial: float =1.0,\n",
    "                 eps_final: float =0.1,\n",
    "                 start_fr: int =5000,\n",
    "                 end_fr: int =1000000):\n",
    "        \"\"\"\n",
    "            Args:\n",
    "                dqn_model\n",
    "                n_actions\n",
    "                eps_initial\n",
    "                eps_final\n",
    "                start_fr\n",
    "                end_fr\n",
    "        \"\"\"\n",
    "        self.eps_initial = eps_initial\n",
    "        self.eps_final = eps_final\n",
    "        self.start_fr = start_fr\n",
    "        self.end_fr = end_fr\n",
    "        self.slope = (self.eps_initial - self.eps_final) / (self.start_fr - self.end_fr)\n",
    "        self.intercept = eps_initial - self.slope * self.start_fr\n",
    "        \n",
    "        self.n_actions = n_actions\n",
    "        \n",
    "        self.dqn_model = dqn_model\n",
    "        \n",
    "        \n",
    "        \n",
    "    def __call__ (self, curr_state:tf.uint8, frame_num:int) -> int:\n",
    "        \"\"\"\n",
    "            Args:\n",
    "                curr_state: Current state of the game which will be used if we opt out for exploitation.\n",
    "                frame_num: Number of frame which is being processed.\n",
    "        \"\"\"\n",
    "        \n",
    "        if frame_num <= start_fr:\n",
    "            eps = self.eps_initial\n",
    "        elif start_fr < frame_num < end_fr:\n",
    "            eps = self.slope * frame_num + self.intercept\n",
    "        elif frame_num >= end_fr:\n",
    "            eps = self.eps_final\n",
    "        \n",
    "        if np.random.rand() < eps:\n",
    "            # we explore\n",
    "            return np.random.randint(self.n_actions)\n",
    "        else:\n",
    "            # we choose the action yielding the highest reward according to our model\n",
    "            model_prediction = self.dqn_model.predict(tf.expand_dims(curr_state, axis=0), verbose=0)\n",
    "            return tf.argmax(action)\n",
    "    \n",
    "    \n",
    "    "
   ]
  },
  {
   "cell_type": "markdown",
   "id": "277f0691",
   "metadata": {},
   "source": [
    "### Defining the agent"
   ]
  },
  {
   "cell_type": "markdown",
   "id": "eacdbd90",
   "metadata": {},
   "source": [
    "- define it as a class"
   ]
  },
  {
   "cell_type": "code",
   "execution_count": 8,
   "id": "ccc0c400",
   "metadata": {},
   "outputs": [],
   "source": [
    "def agent (obs_shape, action_shape, learning_rate):\n",
    "    # define a Sequential CNN using Keras predefined layers\n",
    "    # Here we'll use the same architecture as in Volodymir Mnih et al (2015)\n",
    "    \n",
    "    # need to check if I can use a keras model or I need to define something more custom for DQN\n",
    "    model = keras.Sequential()\n",
    "    model.add(Conv2D(filters=32, kernel_size=(8, 8), strides=(4, 4), padding=\"same\", activation=\"relu\", input_shape=(84, 84, 4)))\n",
    "    model.add(Conv2D(filters=64, kernel_size=(4, 4), strides=(2, 2), padding=\"same\", activation=\"relu\", input_shape=(84, 84, 4)))\n",
    "    model.add(Conv2D(filters=64, kernel_size=(3, 3), strides=(1, 1), padding=\"same\", activation=\"relu\", input_shape=(84, 84, 4)))\n",
    "    model.add(Flatten())\n",
    "    model.add(Dense(512, activation=\"relu\"))\n",
    "    model.add(Dense(action_shape, activation=\"linear\"))\n",
    "\n",
    "    model.compile(loss=keras.losses.Huber(), optimizer=keras.optimizers.Adam(learning_rate=learning_rate), metrics=['accuracy'])        \n",
    "    \n",
    "    return model\n"
   ]
  },
  {
   "cell_type": "markdown",
   "id": "3b02785e",
   "metadata": {},
   "source": [
    "### Replay memory\n",
    "\n",
    "The replay memory D stores following information (called *transition*) every step\n",
    "\n",
    "$$\\left( \\phi_t, \\ a_t, \\ r_t, \\ \\phi_{t+1} \\right) \\longrightarrow D$$\n",
    "\n",
    "where\n",
    "- $\\phi_t$ is the preprocessed sequence including the frame at time step $t$\n",
    "- $a_t$ is the action taken at time step $t$\n",
    "- $r_t$ is the reward gained at time step $t$ after taking action $a_t$ in state $\\phi_t$ $t$\n",
    "- $\\phi_{t+1}$ is the preprocessed sequence including the new state we reached after taking action $a_t$"
   ]
  },
  {
   "cell_type": "code",
   "execution_count": 9,
   "id": "6522526e",
   "metadata": {},
   "outputs": [],
   "source": [
    "class replay_memory:\n",
    "    def __init__(self, capacity, minibatch_size):\n",
    "        self.capacity = capacity\n",
    "        self.memories = []\n",
    "        self.minibatch_size = minibatch_size\n",
    "        \n",
    "    def store_transition(self, curr_state, curr_action, reward, new_state, lives):\n",
    "        # store transition in replay_memory\n",
    "        self.memories.append([curr_state, curr_action, reward, new_state, lives])\n",
    "        if (len(self.memories) > self.capacity):\n",
    "            self.memories.pop(0)\n",
    "    def sample_minibatch(self):\n",
    "        # sample a minibatch of transition from replay_memory\n",
    "        return random.sample(self.memories, self.minibatch_size)\n",
    "    \n",
    "    def get_memories(self):\n",
    "        return self.memories\n",
    "    \n",
    "    def get_count_of_memories(self):\n",
    "        return len(self.memories)"
   ]
  },
  {
   "cell_type": "code",
   "execution_count": 10,
   "id": "878ce67c",
   "metadata": {},
   "outputs": [],
   "source": [
    "# maybe put this as part of the agent class or leave it like this\n",
    "\n",
    "def update_step(replay_memory, main_model, target_model):\n",
    "    # sample minibatch of transitions\n",
    "    minibatch = replay_memory.sample_minibatch()\n",
    "    target_q = []\n",
    "    X = []\n",
    "    \n",
    "    # for each transition we need a target value Q\n",
    "    for (idx, (curr_state, curr_action, reward, new_state, lives)) in enumerate(minibatch):\n",
    "        X.append(curr_state)\n",
    "        if lives == 0:\n",
    "            target_q.append(reward)\n",
    "        else:\n",
    "            new_state = tf.expand_dims(new_state, axis=0)\n",
    "            target_pred = max(target_model.predict(new_state, verbose=0)[0])\n",
    "            target_pred = np.repeat(target_pred, action_shape)\n",
    "            target_q.append(reward + discount * target_pred)\n",
    "            \n",
    "    # update the weights of the main model with target values Q\n",
    "    main_model.fit(x=np.array(X), y=np.array(target_q), epochs=1, verbose=2)\n",
    "    \n",
    "    \n",
    "    "
   ]
  },
  {
   "cell_type": "code",
   "execution_count": null,
   "id": "06347d99",
   "metadata": {},
   "outputs": [],
   "source": [
    "my_env = gym.make(\"SpaceInvaders-v4\",render_mode=\"rgb_array\")\n",
    "obs_shape = my_env.observation_space.shape\n",
    "action_shape = my_env.action_space.n\n",
    "\n",
    "memory_size = 1000\n",
    "num_of_episodes = 1\n",
    "minibatch_size = 5 #32\n",
    "update_target_freq = 5    ## update target NN every 5 parameter updates (steps)\n",
    "discount = 0.99\n",
    "action_repeat = 4         ## repeat chosen action 4 times\n",
    "update_main_freq = 4      ## SGD update main NN after 4 chosen actions\n",
    "learning_rate = 0.001\n",
    "grad_mom = 0.95\n",
    "sq_grad_mom = 0.95\n",
    "min_sq_grad = 0.01\n",
    "eps = 0\n",
    "\n",
    "warm_up = 4"
   ]
  },
  {
   "cell_type": "markdown",
   "id": "e321448b",
   "metadata": {},
   "source": [
    "## Training the model with the Deep-Q-learning Algorithm\n",
    "\n",
    "Training details:\n",
    "- We will follow [V. Mnih et al (2015)](https://www.nature.com/articles/nature14236/) and normalize the positive, neutral and negative rewards to 1, 0, -1 respectively"
   ]
  },
  {
   "cell_type": "code",
   "execution_count": 13,
   "id": "1c15a37b",
   "metadata": {},
   "outputs": [],
   "source": [
    "def normalize_rewards(rew):\n",
    "    return 1 if rew > 0 else -1 if rew < 0 else 0    "
   ]
  },
  {
   "cell_type": "code",
   "execution_count": 17,
   "id": "d8e06640",
   "metadata": {},
   "outputs": [],
   "source": [
    "def train_DQL():\n",
    "    ## initialize replay memory D\n",
    "    memories = replay_memory(memory_size, minibatch_size)\n",
    "    \n",
    "    ## initialize action-value function Q with random weights\n",
    "    main_model = agent(obs_shape, action_shape, learning_rate)\n",
    "    \n",
    "    ## initialize action-value target function with same weights \n",
    "    target_model = agent(obs_shape, action_shape, learning_rate)\n",
    "    target_model.set_weights(main_model.get_weights())\n",
    "    \n",
    "    ## initialize epsilon greedy algorightm\n",
    "    exploit_explore = eps_greedy(my_env, eps)\n",
    "    \n",
    "    memory_count = 0\n",
    "    \n",
    "    ## start outer loop of the number of episode we'll train the model for\n",
    "    for episode in range(num_of_episodes):\n",
    "\n",
    "        ## initialise sequence s1 = {x1} and preprocessed the sequence\n",
    "        curr_raw_obs, info = my_env.reset()\n",
    "        curr_state = initialize_state(my_env, curr_raw_obs)\n",
    "        \n",
    "        while (info[\"lives\"] > 0):\n",
    "            \n",
    "            ## choose an exploration/explotation action \n",
    "            curr_action = exploit_explore.choose_action(curr_state, main_model)\n",
    "            \n",
    "            ## take action\n",
    "            new_raw_obs, reward, terminated, truncated, info = my_env.step(curr_action)\n",
    "\n",
    "            reward = normalize_rewards(reward)\n",
    "\n",
    "            ## create new sequence with new frame\n",
    "            new_state = preprocess_input(new_raw_obs, curr_raw_obs, curr_state)\n",
    "\n",
    "            ## store new transition\n",
    "            memories.store_transition(curr_state, curr_action, reward, new_state, info[\"lives\"])\n",
    "            memory_count +=1\n",
    "            \n",
    "            ## perform weights update\n",
    "            if memories.get_count_of_memories() > 50:\n",
    "                update_step(memories, main_model, target_model)\n",
    "\n",
    "            curr_state = new_state\n",
    "            curr_raw_obs = new_raw_obs\n",
    "                \n",
    "        #print(memory_count)\n",
    "        return 0 # memories.get_memories()\n",
    "            "
   ]
  },
  {
   "cell_type": "code",
   "execution_count": 18,
   "id": "93b30ea7",
   "metadata": {},
   "outputs": [
    {
     "ename": "NameError",
     "evalue": "name 'choose_action' is not defined",
     "output_type": "error",
     "traceback": [
      "\u001b[0;31m---------------------------------------------------------------------------\u001b[0m",
      "\u001b[0;31mNameError\u001b[0m                                 Traceback (most recent call last)",
      "Cell \u001b[0;32mIn [18], line 1\u001b[0m\n\u001b[0;32m----> 1\u001b[0m \u001b[43mtrain_DQL\u001b[49m\u001b[43m(\u001b[49m\u001b[43m)\u001b[49m\n",
      "Cell \u001b[0;32mIn [17], line 22\u001b[0m, in \u001b[0;36mtrain_DQL\u001b[0;34m()\u001b[0m\n\u001b[1;32m     18\u001b[0m \u001b[38;5;28;01mfor\u001b[39;00m episode \u001b[38;5;129;01min\u001b[39;00m \u001b[38;5;28mrange\u001b[39m(num_of_episodes):\n\u001b[1;32m     19\u001b[0m \n\u001b[1;32m     20\u001b[0m     \u001b[38;5;66;03m## initialise sequence s1 = {x1} and preprocessed the sequence\u001b[39;00m\n\u001b[1;32m     21\u001b[0m     curr_raw_obs, info \u001b[38;5;241m=\u001b[39m my_env\u001b[38;5;241m.\u001b[39mreset()\n\u001b[0;32m---> 22\u001b[0m     curr_state \u001b[38;5;241m=\u001b[39m \u001b[43minitialize_state\u001b[49m\u001b[43m(\u001b[49m\u001b[43mmy_env\u001b[49m\u001b[43m,\u001b[49m\u001b[43m \u001b[49m\u001b[43mcurr_raw_obs\u001b[49m\u001b[43m)\u001b[49m\n\u001b[1;32m     24\u001b[0m     \u001b[38;5;28;01mwhile\u001b[39;00m (info[\u001b[38;5;124m\"\u001b[39m\u001b[38;5;124mlives\u001b[39m\u001b[38;5;124m\"\u001b[39m] \u001b[38;5;241m>\u001b[39m \u001b[38;5;241m0\u001b[39m):\n\u001b[1;32m     25\u001b[0m         \n\u001b[1;32m     26\u001b[0m         \u001b[38;5;66;03m## choose an exploration/explotation action \u001b[39;00m\n\u001b[1;32m     27\u001b[0m         curr_action \u001b[38;5;241m=\u001b[39m exploit_explore\u001b[38;5;241m.\u001b[39mchoose_action(curr_state, main_model)\n",
      "Cell \u001b[0;32mIn [4], line 14\u001b[0m, in \u001b[0;36minitialize_state\u001b[0;34m(env, curr_raw_obs)\u001b[0m\n\u001b[1;32m     11\u001b[0m processed \u001b[38;5;241m=\u001b[39m [curr_obs]\n\u001b[1;32m     13\u001b[0m \u001b[38;5;28;01mfor\u001b[39;00m i \u001b[38;5;129;01min\u001b[39;00m \u001b[38;5;28mrange\u001b[39m(\u001b[38;5;241m3\u001b[39m):\n\u001b[0;32m---> 14\u001b[0m     curr_action \u001b[38;5;241m=\u001b[39m \u001b[43mchoose_action\u001b[49m(env, curr_obs, eps)\n\u001b[1;32m     15\u001b[0m     new_raw_obs \u001b[38;5;241m=\u001b[39m my_env\u001b[38;5;241m.\u001b[39mstep(curr_action)[\u001b[38;5;241m0\u001b[39m]\n\u001b[1;32m     16\u001b[0m     new_obs \u001b[38;5;241m=\u001b[39m preprocess_input(new_raw_obs, curr_raw_obs, curr_state\u001b[38;5;241m=\u001b[39mprocessed[\u001b[38;5;241m-\u001b[39m\u001b[38;5;241m1\u001b[39m]) \n",
      "\u001b[0;31mNameError\u001b[0m: name 'choose_action' is not defined"
     ]
    }
   ],
   "source": [
    "train_DQL()"
   ]
  },
  {
   "cell_type": "markdown",
   "id": "9f1f9bd7",
   "metadata": {},
   "source": [
    "<img src=\"./images/DQL-algorithm-2015.png\" alt=\"dql\" width=\"850\"/>"
   ]
  }
 ],
 "metadata": {
  "kernelspec": {
   "display_name": "Python 3 (ipykernel)",
   "language": "python",
   "name": "python3"
  },
  "language_info": {
   "codemirror_mode": {
    "name": "ipython",
    "version": 3
   },
   "file_extension": ".py",
   "mimetype": "text/x-python",
   "name": "python",
   "nbconvert_exporter": "python",
   "pygments_lexer": "ipython3",
   "version": "3.10.8"
  }
 },
 "nbformat": 4,
 "nbformat_minor": 5
}
