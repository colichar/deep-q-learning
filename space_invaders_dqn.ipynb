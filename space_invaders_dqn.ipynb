{
 "cells": [
  {
   "cell_type": "markdown",
   "id": "7e25a7b0",
   "metadata": {},
   "source": [
    "# Deep-Q-Learning\n",
    "\n",
    "In this notebook I explore the concepts of Deep-Q-Learning by following the papers published DeepMind [V. Mnih et al (2013)](https://arxiv.org/pdf/1312.5602.pdf) and [V. Mnih et al (2015)](https://www.nature.com/articles/nature14236/).\n",
    "\n",
    "As I'm intrigued by the topic of autonomous driving, the [MIT lecture videos by Lex Fridman](https://deeplearning.mit.edu/) introduced me to the topic of DQL motivated me to take a deep dive and get familiar with its concepts."
   ]
  },
  {
   "cell_type": "markdown",
   "id": "620489a0",
   "metadata": {},
   "source": [
    "### !!!This is still a work in progress!!!\n",
    "\n",
    "**To do:** \\\n",
    "**1. Figure out how to save/load ReplayMemory memories.** -> numpy.savez or numpy.save \\\n",
    "**2. Maybe to use TensorFlow functions for ReplayMemory instead of lists. Maybe this way, I could utilize the GPU for those processes as well.** -> create tf datasets for current and new states \\\n",
    "**3. Try to utilize tf.function decorator.**"
   ]
  },
  {
   "cell_type": "code",
   "execution_count": 2,
   "id": "57bac5b5",
   "metadata": {},
   "outputs": [],
   "source": [
    "import gym\n",
    "import numpy as np\n",
    "import random\n",
    "\n",
    "import tensorflow as tf\n",
    "from tensorflow import keras\n",
    "from keras.layers import Conv2D, Flatten, Dense\n",
    "\n",
    "import typing\n",
    "\n",
    "import time\n",
    "\n",
    "import matplotlib.pyplot as plt\n",
    "\n",
    "from skimage.transform import resize\n",
    "from PIL import Image\n",
    "\n",
    "import timeit"
   ]
  },
  {
   "cell_type": "markdown",
   "id": "74d504fa",
   "metadata": {},
   "source": [
    "## Preview of the game\n",
    "\n",
    "Use **left** and **right arrows** to move the spaceship sideways and the **space bar** to use the main cannon and shoot the aliens!\n",
    "\n",
    "If you want to move to the left/right and shoot simultaneously then use **s/d**.\n",
    "\n",
    "As you play, the `PlayPlot` function (marked deprecated) will plot the immediate award for the actions you take. For this uncomment the callback call in the `play` function. "
   ]
  },
  {
   "cell_type": "code",
   "execution_count": 23,
   "id": "cf69d995",
   "metadata": {},
   "outputs": [
    {
     "name": "stderr",
     "output_type": "stream",
     "text": [
      "/home/hare/.local/lib/python3.10/site-packages/gym/envs/registration.py:505: UserWarning: \u001b[33mWARN: The environment SpaceInvaders-v4 is out of date. You should consider upgrading to version `v5` with the environment ID `ALE/SpaceInvaders-v5`.\u001b[0m\n",
      "  logger.warn(\n"
     ]
    }
   ],
   "source": [
    "import pygame\n",
    "from gym.utils.play import play, PlayPlot\n",
    "\n",
    "def compute_metrics(obs_t, obs_tp, action, reward, terminated, truncated, info):\n",
    "    return [reward, np.linalg.norm(action)]\n",
    "\n",
    "plotter = PlayPlot(\n",
    "    compute_metrics,\n",
    "    horizon_timesteps=200,\n",
    "    plot_names=[\"Immediate Rew.\", \"Action Magnitude\"]\n",
    ")\n",
    "\n",
    "my_env = gym.make(\"SpaceInvaders-v4\", render_mode=\"rgb_array\")\n",
    "mapping = {(pygame.K_SPACE,): 1, (pygame.K_RIGHT,): 2, (pygame.K_LEFT,): 3, (pygame.K_d,): 4, (pygame.K_s,): 5}\n",
    "play(my_env, keys_to_action=mapping) #, callback=plotter.callback)"
   ]
  },
  {
   "cell_type": "markdown",
   "id": "2f96bcd0",
   "metadata": {},
   "source": [
    "## Starting to define some functions"
   ]
  },
  {
   "cell_type": "markdown",
   "id": "791e4699",
   "metadata": {},
   "source": [
    "For the first attempt we'll use the architecture of the neural network described on page 6 in [Volodymir Mnih et al (2013)](https://arxiv.org/pdf/1312.5602.pdf).\n",
    "\n",
    "### Preprocess function $\\phi$\n",
    "\n",
    "Since it will be computationally more demanding working with the raw $210 \\times 160$ pixel frames, we'll apply a preprocess function $\\phi$ to the frames before forwarding them to the neural network. The preprocess function will do the following\n",
    "- (will not be done here) for a single frame we take the maximum value for each pixel color value and the previous frame (removes flickering in original paper, but we'll use the `ALE/SpaceInvaders-v5` environment which has a frameskip=5 which removes the flickering of the misiles)\n",
    "- the frames will be converted from RGB representation into gray-scale\n",
    "- the frames will be resized to $110 \\times 84$ images\n",
    "- the playing area is cropped out so we have a final $84 \\times 84$ frame (this is done in, but I might skip this step in this notebook [Volodymir Mnih et al (2013)](https://arxiv.org/pdf/1312.5602.pdf))\n",
    "- the last 4 frames from a sequence will be modified as explained and stacked to form a $84 \\times 84 \\times 4$ input for the agent\n",
    "\n",
    "So, to preprocess our input for the neuarl network, we'll need a function $\\phi$ that will take the previous processed sequence $\\phi_t$ and new obtained frame $x_{t+1}$ and combine them to a new processed sequence as follows\n",
    "\n",
    "$$\\phi: \\phi_t, x_{t+1} \\longrightarrow \\phi_{t+1}$$"
   ]
  },
  {
   "cell_type": "code",
   "execution_count": 3,
   "id": "bc371e2f",
   "metadata": {},
   "outputs": [],
   "source": [
    "\"\"\"First we create some annotations for the raw frame, processed frame and processed state.\"\"\"\n",
    "\n",
    "from typing import Generic, TypeVar, Annotated\n",
    "from typing_extensions import TypeVarTuple, Unpack\n",
    "\n",
    "ArrayType = TypeVar('ArrayType')\n",
    "Shape = TypeVarTuple('Shape')\n",
    "Dtype = TypeVar('Dtype')\n",
    "\n",
    "class Array(Generic[ArrayType, Shape, Dtype]):\n",
    "    pass\n",
    "\n",
    "RawFrame = Array[np.ndarray, (210, 160, 3), np.uint8]\n",
    "ProcessedFrame = Array[tf.Tensor, (84,84,1), tf.uint8]\n",
    "ProcessedState = Array[tf.Tensor, (84,84,4), tf.uint8]"
   ]
  },
  {
   "cell_type": "code",
   "execution_count": 4,
   "id": "af19e4f7",
   "metadata": {},
   "outputs": [],
   "source": [
    "class Preprocessor:\n",
    "    \"\"\"\n",
    "    Takes care of preprocessing frames for the DQN models.\n",
    "    \"\"\"\n",
    "    \n",
    "    def __init__(self, height:int=84, width:int=84):\n",
    "        self.height = height\n",
    "        self.width = width\n",
    "        \n",
    "    def initialize_state(self, env) -> ProcessedState:\n",
    "        \"\"\"\n",
    "        Initializes the first state of an episode with the first 4 frames.\n",
    "        \"\"\"\n",
    "        env.reset()\n",
    "        actions = [env.action_space.sample() for i in range(5)]\n",
    "        raw_frames = [env.step(action)[0] for action in actions]\n",
    "        processed_frames = [self.preprocess_frame(raw_frames[idx], raw_frames[idx+1]) for idx in range(4)]\n",
    "        \n",
    "        return tf.concat(processed_frames, axis=-1), raw_frames[-1]\n",
    "        \n",
    "        \n",
    "    def encode_frames(self,\n",
    "                      new_raw_obs:RawFrame,\n",
    "                      old_raw_obs:RawFrame\n",
    "                     )-> RawFrame:\n",
    "        \n",
    "        \"\"\"Encodes two consecutive frames in such a manner to remove the flickering of projectiles.\"\"\"\n",
    "\n",
    "        return np.array([old_raw_obs, new_raw_obs]).max(axis=0)\n",
    "    \n",
    "    def preprocess_frame(self,\n",
    "                         new_raw_obs:RawFrame,\n",
    "                         old_raw_obs:RawFrame\n",
    "                        ) -> ProcessedFrame:\n",
    "        \"\"\"\n",
    "        Preprocesses one frame for the model.\n",
    "        \"\"\"\n",
    "        \n",
    "        processed_fr = self.encode_frames(old_raw_obs, new_raw_obs)\n",
    "        processed_fr = tf.image.rgb_to_grayscale(processed_fr)\n",
    "        processed_fr = tf.image.crop_to_bounding_box(processed_fr, 34, 0, 160, 160)\n",
    "        processed_fr = tf.image.resize(processed_fr, [self.height, self.width], method='bilinear')\n",
    "        processed_fr = tf.cast(processed_fr, tf.uint8)\n",
    "\n",
    "        return processed_fr\n",
    "\n",
    "    \n",
    "    def new_state(self,\n",
    "                  new_raw_obs:RawFrame,\n",
    "                  old_raw_obs:RawFrame,\n",
    "                  old_state:ProcessedState\n",
    "                 ) -> ProcessedState:\n",
    "        \"\"\"\n",
    "        Creates a news state from an old state and a new raw frame.\n",
    "        \"\"\"\n",
    "        processed_fr = self.preprocess_frame(new_raw_obs, old_raw_obs)\n",
    "        \n",
    "        return tf.concat([old_state[::, ::, 1:], processed_fr], axis=-1)"
   ]
  },
  {
   "cell_type": "markdown",
   "id": "c7610771",
   "metadata": {},
   "source": [
    "### Replay memory\n",
    "\n",
    "The replay memory $D$ stores following information (called *transition* $\\phi$) after every taken action\n",
    "\n",
    "$$\\left( \\phi_t, \\ a_t, \\ r_t, \\ \\phi_{t+1} \\right) \\longrightarrow D$$\n",
    "\n",
    "where\n",
    "- $\\phi_t$ is the preprocessed sequence including the frame at time step $t$\n",
    "- $a_t$ is the action taken at time step $t$\n",
    "- $r_t$ is the reward gained at time step $t$ after taking action $a_t$ in state $\\phi_t$ $t$\n",
    "- $\\phi_{t+1}$ is the preprocessed sequence including the new state we reached after taking action $a_t$"
   ]
  },
  {
   "cell_type": "code",
   "execution_count": 5,
   "id": "4e49ee44",
   "metadata": {},
   "outputs": [],
   "source": [
    "class ReplayMemory:\n",
    "    def __init__(self, capacity:int, minibatch_size:int):\n",
    "        \"\"\"Initiate a ReplayMemory object with capacity, memories and minibatch_size properties\"\"\"\n",
    "        \n",
    "        self.capacity = capacity\n",
    "        self.memories = []\n",
    "        self.minibatch_size = minibatch_size\n",
    "        \n",
    "    def store_transition(self,\n",
    "                         curr_state:ProcessedState,\n",
    "                         curr_action:int,\n",
    "                         reward:float,\n",
    "                         new_state:ProcessedState,\n",
    "                         lives:int):\n",
    "        \"\"\"Stores a transition in ReplayMemory object.\"\"\"\n",
    "        \n",
    "        self.memories.append([curr_state, curr_action, reward, new_state, lives])\n",
    "        if (len(self.memories) > self.capacity):\n",
    "            self.memories.pop(0)\n",
    "\n",
    "    def sample_minibatch(self):\n",
    "        \"\"\"Samples a minibatch of transitions from ReplayMemory object.\"\"\"\n",
    "        \n",
    "        return random.sample(self.memories, self.minibatch_size)"
   ]
  },
  {
   "cell_type": "markdown",
   "id": "c111d2ed",
   "metadata": {},
   "source": [
    "### Testing the preprocess function $\\phi$"
   ]
  },
  {
   "cell_type": "code",
   "execution_count": 6,
   "id": "e0377f26",
   "metadata": {},
   "outputs": [],
   "source": [
    "## get some observations to test the preprocess function\n",
    "## first 45 memory entries are before the game starts\n",
    "\n",
    "def get_sample_frames(name=\"ALE/SpaceInvaders-v5\", frameskip=5):\n",
    "\n",
    "    memory_raw = []\n",
    "    memory_processed = []\n",
    "    memory_encoded = []\n",
    "\n",
    "    some_preprocessor = Preprocessor()\n",
    "    \n",
    "    if frameskip:\n",
    "        env = gym.make(name, frameskip=frameskip, render_mode=\"rgb_array\")\n",
    "    else:\n",
    "        env = gym.make(name, render_mode=\"rgb_array\")\n",
    "        \n",
    "    preprocessed, curr_raw_obs = some_preprocessor.initialize_state(env)\n",
    "    memory_processed.append(preprocessed)\n",
    "    memory_raw.append(curr_raw_obs)\n",
    "    for _ in range(500):\n",
    "        action = env.action_space.sample()\n",
    "        new_raw_obs, reward, terminated, info = env.step(action)# new_raw_obs, reward, terminated, truncated, info = env.step(action)\n",
    "\n",
    "        preprocessed = some_preprocessor.new_state(new_raw_obs, curr_raw_obs, memory_processed[-1])\n",
    "        memory_processed.append(preprocessed)\n",
    "        \n",
    "        encoded = some_preprocessor.encode_frames(new_raw_obs, curr_raw_obs)\n",
    "        memory_encoded.append(encoded)\n",
    "        \n",
    "        curr_raw_obs = new_raw_obs\n",
    "        memory_raw.append(curr_raw_obs)\n",
    "\n",
    "        if terminated: # or truncated:\n",
    "            observation = env.reset() #observation, info = env.reset()\n",
    "    env.close()\n",
    "    return memory_raw, memory_processed, memory_encoded"
   ]
  },
  {
   "cell_type": "code",
   "execution_count": 57,
   "id": "6f4baa26",
   "metadata": {},
   "outputs": [
    {
     "name": "stderr",
     "output_type": "stream",
     "text": [
      "A.L.E: Arcade Learning Environment (version 0.7.5+db37282)\n",
      "[Powered by Stella]\n"
     ]
    }
   ],
   "source": [
    "memory_raw, memory_processed, memory_encoded = get_sample_frames()"
   ]
  },
  {
   "cell_type": "code",
   "execution_count": 7,
   "id": "b0436ca4",
   "metadata": {},
   "outputs": [],
   "source": [
    "# defining a couple of functions to check the original and processed frames\n",
    "    # check if the flickering is a problem in consecutive images\n",
    "    # check if the misiles are seen in the processed images\n",
    "\n",
    "\n",
    "def plot_raw_frames(frames):\n",
    "\n",
    "    fig = plt.figure(figsize=(10, 10))\n",
    "    columns = 4\n",
    "    rows = 1\n",
    "    for i in range(1, columns*rows +1):\n",
    "        img = frames[i]\n",
    "        fig.add_subplot(rows, columns, i)\n",
    "        plt.imshow(img)\n",
    "    plt.show()\n",
    "    \n",
    "def plot_processed_frames(frames):\n",
    "\n",
    "    fig = plt.figure(figsize=(10, 10))\n",
    "    columns = 4\n",
    "    rows = 1\n",
    "    for i in range(1, columns*rows +1):\n",
    "        img = frames[i]\n",
    "        fig.add_subplot(rows, columns, i)\n",
    "        plt.imshow(img[::, ::, 2])\n",
    "    plt.show()"
   ]
  },
  {
   "cell_type": "markdown",
   "id": "71398ddd",
   "metadata": {},
   "source": [
    "### Defining the agent\n",
    "\n",
    "Text about the DQN model coming soon.\n",
    "\n",
    "- create a target model updater\n",
    "- check why accuracy always 0% -> because its not a categorical problem\n",
    "- create an evaluation process\n",
    "- get an output gif/video of the model actually playing"
   ]
  },
  {
   "cell_type": "code",
   "execution_count": 8,
   "id": "8e23d5c7",
   "metadata": {},
   "outputs": [],
   "source": [
    "\"\"\"\n",
    "Using keras.layers we can build a Sequential model with a last layer being a Dense\n",
    "one with a number of neurons being equal to the number of actions the agent can \n",
    "take while playing SpaceInvaders. To train our DQN model we are interested in the\n",
    "maximal value of the neurons in the Dense layer and its index.\n",
    "\n",
    "To extract this information we define a custom MaxValAndAction layer for our model.\n",
    "This layer will return the index of the neuron with the maximal value. The index\n",
    "corresponds to the action in the action space of SpaceInvaders while the value of\n",
    "the neuron corresponds to the Q-value.\n",
    "\"\"\"\n",
    "\n",
    "huber = tf.keras.losses.Huber()\n",
    "\n",
    "class MaxValAndAction(keras.layers.Layer):\n",
    "        def __init__(self):\n",
    "            super(MaxValAndAction, self).__init__()\n",
    "        \n",
    "        def __call__(self, values):\n",
    "            action = tf.cast(tf.math.argmax(values, axis=1), dtype=tf.float64)\n",
    "            max_value = tf.cast(tf.math.reduce_max(values, axis=1), dtype=tf.float64)\n",
    "            \n",
    "            return tf.stack([max_value, action], axis=1)\n",
    "        \n",
    "def custom_loss(y_true, y_pred):\n",
    "    \"\"\"\n",
    "    Since y_true and y_pred will have different shapes\n",
    "        - y_true shape -> (batch_size, 1) second axis contains only the maxval (Q-value)\n",
    "        - y_pred shape -> (batch_size, 2) second axis contains (maxval(Q-value), action)-pair\n",
    "    we need to crete a custom loss function. The loss function will implement the Huber-loss\n",
    "    function and will ignore the action-value from the second axis of y_pred.\n",
    "    \"\"\"\n",
    "    \n",
    "    loss = huber(y_true[::,0], y_pred[::,0])\n",
    "    return loss"
   ]
  },
  {
   "cell_type": "code",
   "execution_count": 9,
   "id": "eb5722fb",
   "metadata": {},
   "outputs": [],
   "source": [
    "class DQNmodel(keras.Sequential):\n",
    "    def __init__(self, n_actions:int, learning_rate:float=0.001, state_shape:tuple=(84,84,4)):\n",
    "        super().__init__()\n",
    "        \n",
    "        self.n_actions = n_actions\n",
    "        self.learning_rate = learning_rate\n",
    "        self.state_shape = state_shape\n",
    "        \n",
    "        self.init_model()\n",
    "        \n",
    "    def init_model(self):\n",
    "        self.add(Conv2D(filters=32, kernel_size=(8, 8), strides=(4, 4), padding=\"same\", activation=\"relu\", input_shape=self.state_shape))\n",
    "        self.add(Conv2D(filters=64, kernel_size=(4, 4), strides=(2, 2), padding=\"same\", activation=\"relu\"))\n",
    "        self.add(Conv2D(filters=64, kernel_size=(3, 3), strides=(1, 1), padding=\"same\", activation=\"relu\"))\n",
    "        self.add(Flatten())\n",
    "        self.add(Dense(512, activation=\"relu\"))\n",
    "        self.add(Dense(self.n_actions, activation=\"linear\"))\n",
    "        self.add(MaxValAndAction())\n",
    "\n",
    "        self.compile(loss=custom_loss, optimizer=keras.optimizers.Adam(learning_rate=self.learning_rate))\n",
    "        \n",
    "    def best_action(self, new_state:ProcessedState) -> int:\n",
    "        model_prediction = self.predict(new_state, verbose=0)\n",
    "        return int(model_prediction[0][1])\n",
    "    \n",
    "    def best_reward(self, new_state:ProcessedState) -> int:\n",
    "        model_prediction = self.predict(new_state, verbose=0)\n",
    "        return model_prediction[0][0]"
   ]
  },
  {
   "cell_type": "markdown",
   "id": "bf71f512",
   "metadata": {},
   "source": [
    "### Exploration and exploitation with $\\epsilon$-greedy strategy"
   ]
  },
  {
   "cell_type": "markdown",
   "id": "ddbc12ad",
   "metadata": {},
   "source": [
    "- explore for rand < eps and exploit for rand > eps\n",
    "- for first xx amount of frames $\\epsilon = 1$\n",
    "- for the next million frames $\\epsilon \\rightarrow 0.1$ linearly\n",
    "- after that it is fixed to $\\epsilon = 0.1$"
   ]
  },
  {
   "cell_type": "code",
   "execution_count": 10,
   "id": "4506bce7",
   "metadata": {},
   "outputs": [],
   "source": [
    "class ExplorationVsExploitation:\n",
    "    \"\"\"\n",
    "    This class handles the epsilon-greedy strategy which will be used to determine whether\n",
    "    we will choose an action to explore new possibilites or exploit the accumulated experience.\n",
    "    \"\"\"\n",
    "    def __init__(self,\n",
    "                 dqn_model:DQNmodel,\n",
    "                 n_actions:int,\n",
    "                 eps_initial:float=1.0,\n",
    "                 eps_final:float=0.1,\n",
    "                 start_fr:int=5000,\n",
    "                 end_fr:int=1000000,\n",
    "                 evaluation:bool=False):\n",
    "        \"\"\"\n",
    "        Initiates an ExplorationVsExploitation object with a DQNmodel object and hyperparameters.\n",
    "        \"\"\"\n",
    "        self.eps_initial = eps_initial\n",
    "        self.eps_final = eps_final\n",
    "        self.start_fr = start_fr\n",
    "        self.end_fr = end_fr\n",
    "        self.slope = (self.eps_initial - self.eps_final) / (self.start_fr - self.end_fr)\n",
    "        self.intercept = eps_initial - self.slope * self.start_fr\n",
    "        \n",
    "        self.n_actions = n_actions\n",
    "        \n",
    "        self.dqn_model = dqn_model\n",
    "        \n",
    "        self.evaluation = evaluation\n",
    "        \n",
    "        \n",
    "    def __call__ (self, curr_state:ProcessedState, frame_num:int=0) -> int:\n",
    "        \"\"\"\n",
    "        When the object is called, it will return an action to be performed by the agent.\n",
    "        This action will either be an exploration of new possibilities or and exploitation\n",
    "        of the accumulated experience of the agent.\n",
    "        \"\"\"\n",
    "        if self.evaluation:\n",
    "            eps = 0\n",
    "        elif frame_num <= self.start_fr:\n",
    "            eps = self.eps_initial\n",
    "        elif self.start_fr < frame_num < self.end_fr:\n",
    "            eps = self.slope * frame_num + self.intercept\n",
    "        elif frame_num >= self.end_fr:\n",
    "            eps = self.eps_final\n",
    "\n",
    "        \n",
    "        if np.random.rand() < eps:\n",
    "            # we explore\n",
    "            return np.random.randint(self.n_actions)\n",
    "        else:\n",
    "            # we choose the action yielding the highest reward according to our main model\n",
    "            model_prediction = self.dqn_model.best_action(tf.expand_dims(curr_state, axis=0))\n",
    "            return model_prediction\n"
   ]
  },
  {
   "cell_type": "markdown",
   "id": "e321448b",
   "metadata": {},
   "source": [
    "## Training the model with the Deep-Q-learning Algorithm\n",
    "\n",
    "Training details:\n",
    "- We will follow [V. Mnih et al (2015)](https://www.nature.com/articles/nature14236/) and normalize the positive, neutral and negative rewards to 1, 0, -1 respectively"
   ]
  },
  {
   "cell_type": "markdown",
   "id": "ae19d169",
   "metadata": {},
   "source": [
    "<img src=\"./images/DQL-algorithm-2015.png\" alt=\"dql\" width=\"850\"/>"
   ]
  },
  {
   "cell_type": "code",
   "execution_count": 11,
   "id": "1c9d81e5",
   "metadata": {},
   "outputs": [],
   "source": [
    "MEMORY_SIZE = 10**4\n",
    "MINIBATCH_SIZE = 32\n",
    "MAX_FRAMES = 500#5 * 10**4\n",
    "UPDATE_MAIN_FREQ = 4\n",
    "DISCOUNT = 0.99\n",
    "UPDATE_TARGET_FREQ = 0.25 * 10**4    ## update target NN 2500 frames\n",
    "AVERAGE_LOSS_FREQ = 400\n",
    "LEARNING_RATE = 0.001\n",
    "MEMORY_WARMUP = 200\n",
    "\n",
    "EVAL_EPISODES=3"
   ]
  },
  {
   "cell_type": "code",
   "execution_count": 12,
   "id": "86f9388a",
   "metadata": {},
   "outputs": [],
   "source": [
    "class SpaceInvaderAgent:\n",
    "    def __init__(self):\n",
    "        self.my_env = gym.make(\"ALE/SpaceInvaders-v5\", frameskip=5, render_mode=\"rgb_array\")\n",
    "        \n",
    "        self.MainModel = DQNmodel(self.my_env.action_space.n, LEARNING_RATE)\n",
    "        self.TargetModel = DQNmodel(self.my_env.action_space.n)\n",
    "        self.TargetModel.set_weights(self.MainModel.get_weights())\n",
    "        \n",
    "        self.Preprocessor = Preprocessor()\n",
    "        self.ReplayMemory = ReplayMemory(MEMORY_SIZE, MINIBATCH_SIZE)\n",
    "        self.ExploreVsExploit = ExplorationVsExploitation(self.MainModel, self.my_env.action_space.n)\n",
    "        \n",
    "        self.losses = []\n",
    "        self.averaged_losses = []\n",
    "        self.rewards = []\n",
    "        \n",
    "        self.eval_rewards = []\n",
    "        self.frames_for_gif = []\n",
    "        \n",
    "    def update_step(self):\n",
    "        # sample minibatch of transitions\n",
    "        minibatch = self.ReplayMemory.sample_minibatch()\n",
    "        target_q = []\n",
    "        X = []\n",
    "\n",
    "        # for each transition we need a target value Q\n",
    "        for (idx, (curr_state, curr_action, reward, new_state, lives)) in enumerate(minibatch):\n",
    "            X.append(curr_state)\n",
    "            if lives == 0:\n",
    "                target_q.append(reward)\n",
    "            else:\n",
    "                new_state = tf.expand_dims(new_state, axis=0)\n",
    "                target_pred = self.TargetModel.best_reward(new_state)\n",
    "                target_q.append(reward + DISCOUNT * target_pred)\n",
    "\n",
    "        # update the weights of the main model with target values Q\n",
    "        training_info = self.MainModel.fit(x=np.array(X), y=np.array(target_q), epochs=1, verbose=0, batch_size=1)\n",
    "        return training_info.history['loss'][0]\n",
    "    \n",
    "    def train(self):\n",
    "        frame_num = 0\n",
    "        \n",
    "        while (frame_num < MAX_FRAMES):\n",
    "            episode_reward = 0\n",
    "            \n",
    "            curr_state, curr_raw_obs = self.Preprocessor.initialize_state(self.my_env)\n",
    "            alive = True\n",
    "            \n",
    "            while alive:\n",
    "                # take action\n",
    "                curr_action = self.ExploreVsExploit(curr_state, frame_num)\n",
    "\n",
    "                new_raw_obs, reward, terminated, info = self.my_env.step(curr_action)\n",
    "\n",
    "                alive = info[\"lives\"] != 0\n",
    "\n",
    "                episode_reward += reward\n",
    "\n",
    "                reward = 1 if reward > 0 else -1 if reward < 0 else 0\n",
    "\n",
    "                # create new sequence with new frame\n",
    "                new_state = self.Preprocessor.new_state(new_raw_obs, curr_raw_obs, curr_state)\n",
    "\n",
    "                # store new transition\n",
    "                self.ReplayMemory.store_transition(curr_state, curr_action, reward, new_state, info[\"lives\"])\n",
    "\n",
    "                # perform weights update for main model\n",
    "                if frame_num % UPDATE_MAIN_FREQ == 0 and frame_num > MEMORY_WARMUP:\n",
    "                    loss = self.update_step()\n",
    "                    self.losses.append(loss)\n",
    "\n",
    "                # perform weights update for target model\n",
    "                if frame_num % UPDATE_TARGET_FREQ == 0 and frame_num > MEMORY_WARMUP:\n",
    "                    self.TargetModel.set_weights(self.MainModel.get_weights())\n",
    "                    print(\"Updating target model...\")\n",
    "                \n",
    "                # averaging past losses\n",
    "                if frame_num % AVERAGE_LOSS_FREQ == 0 and frame_num > MEMORY_WARMUP:\n",
    "                    self.averaged_losses.append(np.mean(self.losses))\n",
    "                    self.losses = []\n",
    "                    print(\"Finished\", frame_num, \"frames. Loss:\", self.averaged_losses[-1])\n",
    "\n",
    "                curr_state = new_state\n",
    "                curr_raw_obs = new_raw_obs\n",
    "                frame_num += 1\n",
    "                if frame_num >= MAX_FRAMES:\n",
    "                    break\n",
    "\n",
    "            print(\"Episode finished. Reward:\", episode_reward)\n",
    "            self.rewards.append(episode_reward)\n",
    "            \n",
    "        return self.averaged_losses, self.rewards\n",
    "    \n",
    "    def export_as_gif(self, frames:list, name:str):\n",
    "        resized_frames = [resize(frame, (420, 320, 3), preserve_range=True, order=0).astype(np.uint8) for frame in frames]\n",
    "\n",
    "        images = [Image.fromarray(frame) for frame in resized_frames]\n",
    "\n",
    "        images[0].save(name, save_all=True, append_images=images[1:], duration=100, loop=0)\n",
    "    \n",
    "    def evaluate(self):\n",
    "        self.eval_rewards = []\n",
    "        self.frames_for_gif = []\n",
    "        num_of_ep = 1\n",
    "\n",
    "        ## start outer loop of the number of episode we'll train the model for\n",
    "        for episode in range(EVAL_EPISODES):\n",
    "\n",
    "            episode_reward = 0\n",
    "            alive = True\n",
    "\n",
    "            ## initialise first sequence of new episode\n",
    "            curr_state, curr_raw_obs = self.Preprocessor.initialize_state(self.my_env)\n",
    "\n",
    "            while alive:\n",
    "\n",
    "                ## choose an exploration/explotation action \n",
    "                curr_action = self.ExploreVsExploit(curr_state)\n",
    "\n",
    "                ## take action\n",
    "                new_raw_obs, reward, terminated, info = self.my_env.step(curr_action)\n",
    "                \n",
    "                alive = info[\"lives\"] != 0\n",
    "\n",
    "                self.frames_for_gif.append(new_raw_obs)\n",
    "\n",
    "                episode_reward += reward\n",
    "\n",
    "                ## create new sequence with new frame\n",
    "                curr_state = self.Preprocessor.new_state(new_raw_obs, curr_raw_obs, curr_state)\n",
    "                curr_raw_obs = new_raw_obs\n",
    "\n",
    "\n",
    "            self.eval_rewards.append(episode_reward)\n",
    "            self.export_as_gif(self.frames_for_gif, \"eval_\" + str(num_of_ep) + \".gif\")\n",
    "            self.frames_for_gif = []\n",
    "            num_of_ep += 1\n",
    "\n",
    "        return self.eval_rewards"
   ]
  },
  {
   "cell_type": "code",
   "execution_count": 50,
   "id": "6cafa115",
   "metadata": {},
   "outputs": [],
   "source": [
    "Agent = SpaceInvaderAgent()"
   ]
  },
  {
   "cell_type": "code",
   "execution_count": 27,
   "id": "2512d326",
   "metadata": {
    "scrolled": false
   },
   "outputs": [
    {
     "name": "stdout",
     "output_type": "stream",
     "text": [
      "Episode finished. Reward: 45.0\n",
      "Finished 400 frames. Loss: 0.3251454921066761\n",
      "Episode finished. Reward: 320.0\n",
      "Elapsed time in minutes: 2.857253380616506\n"
     ]
    }
   ],
   "source": [
    "start = time.time()\n",
    "training_losses, training_rewards = Agent.train()\n",
    "end = time.time()\n",
    "print(\"Elapsed time in minutes:\", (end-start)/60)"
   ]
  },
  {
   "cell_type": "code",
   "execution_count": null,
   "id": "325109c7",
   "metadata": {},
   "outputs": [],
   "source": [
    "with open(r'./losses.txt', 'w') as fp:\n",
    "    for loss in training_losses:\n",
    "        # write each item on a new line\n",
    "        fp.write(\"%s\\n\" % loss)\n",
    "    print('Done')\n",
    "    \n",
    "with open(r'./rewards.txt', 'w') as fp:\n",
    "    for reward in training_rewards:\n",
    "        # write each item on a new line\n",
    "        fp.write(\"%s\\n\" % reward)\n",
    "    print('Done')"
   ]
  },
  {
   "cell_type": "code",
   "execution_count": 49,
   "id": "ef12f1f2",
   "metadata": {},
   "outputs": [
    {
     "data": {
      "image/png": "[encoded data removed]",
      "text/plain": [
       "<Figure size 1000x300 with 2 Axes>"
      ]
     },
     "metadata": {},
     "output_type": "display_data"
    }
   ],
   "source": [
    "fig, (ax1, ax2) = plt.subplots(nrows=1, ncols=2, figsize=(10, 3))\n",
    "ax1.set_title('Training losses')\n",
    "ax1.plot(training_losses)\n",
    "ax2.set_title('Training rewards')\n",
    "ax2.plot(training_rewards, 'o')\n",
    "fig.tight_layout()"
   ]
  },
  {
   "cell_type": "code",
   "execution_count": 67,
   "id": "381f6af8",
   "metadata": {},
   "outputs": [
    {
     "name": "stdout",
     "output_type": "stream",
     "text": [
      "Elapsed time in minutes:  3.670116126537323\n"
     ]
    }
   ],
   "source": [
    "start = time.time()\n",
    "evaluation_rewards = Agent.evaluate()\n",
    "end = time.time()\n",
    "print(\"Elapsed time in minutes:\", (end-start)/60)"
   ]
  },
  {
   "cell_type": "code",
   "execution_count": 68,
   "id": "90aeda3e",
   "metadata": {},
   "outputs": [
    {
     "data": {
      "image/png": "[encoded data removed]",
      "text/plain": [
       "<Figure size 640x480 with 1 Axes>"
      ]
     },
     "metadata": {},
     "output_type": "display_data"
    }
   ],
   "source": [
    "plt.plot(evaluation_rewards, 'o')\n",
    "plt.title('Evaluation rewards')\n",
    "\n",
    "plt.show()"
   ]
  }
 ],
 "metadata": {
  "kernelspec": {
   "display_name": "Python 3 (ipykernel)",
   "language": "python",
   "name": "python3"
  },
  "language_info": {
   "codemirror_mode": {
    "name": "ipython",
    "version": 3
   },
   "file_extension": ".py",
   "mimetype": "text/x-python",
   "name": "python",
   "nbconvert_exporter": "python",
   "pygments_lexer": "ipython3",
   "version": "3.10.8"
  }
 },
 "nbformat": 4,
 "nbformat_minor": 5
}
